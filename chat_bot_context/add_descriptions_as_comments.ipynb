{
 "cells": [
  {
   "cell_type": "code",
   "execution_count": 2,
   "metadata": {},
   "outputs": [],
   "source": [
    "import yaml\n",
    "import snowflake.connector\n",
    "\n",
    "def load_schema_yml(file_path):\n",
    "    with open(file_path, 'r') as file:\n",
    "        schema = yaml.safe_load(file)\n",
    "    return schema\n",
    "\n",
    "def generate_sql(schema, database, schema_name):\n",
    "    sql_statements = []\n",
    "    \n",
    "    for model in schema.get('models', []):\n",
    "        table_name = model['name']\n",
    "        table_description = model.get('description', '')\n",
    "        \n",
    "        if table_description:\n",
    "            sql_statements.append(\n",
    "                f\"COMMENT ON TABLE {database}.{schema_name}.{table_name} IS '{table_description}';\"\n",
    "            )\n",
    "        \n",
    "        for column in model.get('columns', []):\n",
    "            column_name = column['name']\n",
    "            column_description = column.get('description', '')\n",
    "            if column_description:\n",
    "                sql_statements.append(\n",
    "                    f\"COMMENT ON COLUMN {database}.{schema_name}.{table_name}.{column_name} IS '{column_description}';\"\n",
    "                )\n",
    "    \n",
    "    return sql_statements\n",
    "\n",
    "def execute_sql_statements(statements, user, password, account, warehouse, database, schema):\n",
    "    conn = snowflake.connector.connect(\n",
    "        user=user,\n",
    "        password=password,\n",
    "        account=account,\n",
    "        warehouse=warehouse,\n",
    "        database=database,\n",
    "        schema=schema\n",
    "    )\n",
    "    cursor = conn.cursor()\n",
    "    try:\n",
    "        for statement in statements:\n",
    "            cursor.execute(statement)\n",
    "    finally:\n",
    "        cursor.close()\n",
    "        conn.close()\n",
    "\n"
   ]
  },
  {
   "cell_type": "code",
   "execution_count": 3,
   "metadata": {},
   "outputs": [],
   "source": [
    "# Load schema.yml and generate SQL statements\n",
    "schema = load_schema_yml('/Users/ike.simmons/local/github/data-dbt/models/report/executive/schema.yml')\n",
    "database = 'ANALYTICS'\n",
    "schema_name = 'DBT_IKE'\n",
    "sql_statements = generate_sql(schema, database, schema_name)\n",
    "\n"
   ]
  },
  {
   "cell_type": "code",
   "execution_count": 9,
   "metadata": {},
   "outputs": [
    {
     "name": "stdout",
     "output_type": "stream",
     "text": [
      "No description found\n",
      "report_2022_customer_projection: \n",
      "No description found\n",
      "report_area_service_type_stats_by_month: \n",
      "No description found\n",
      "report_area_stats_by_day: \n",
      "No description found\n",
      "report_area_stats_by_month: \n",
      "No description found\n",
      "report_ask_nicely_stats: \n",
      "No description found\n",
      "report_days_to_service: \n",
      "No description found\n",
      "report_days_to_service_upgrades: \n",
      "No description found\n",
      "report_employee_churn: \n",
      "No description found\n",
      "report_employee_count_over_time: \n",
      "No description found\n",
      "report_executive_scheduling_health: \n",
      "No description found\n",
      "report_existing_customers_active: \n",
      "No description found\n",
      "report_field_ops_driving: \n",
      "No description found\n",
      "report_inaccurate_taxed_invoices: \n",
      "No description found\n",
      "report_kpi_projections: \n",
      "No description found\n",
      "report_mom_data_daily_agg_no_split: \n",
      "No description found\n",
      "report_multiyear_agreement_counts: \n",
      "No description found\n",
      "report_nps_score: \n",
      "No description found\n",
      "report_renewal_revenue: \n",
      "No description found\n",
      "report_reservices_count: \n",
      "No description found\n",
      "report_sales_plan_actuals_yoy: \n"
     ]
    }
   ],
   "source": [
    "\n",
    "for model in schema.get('models', []): \n",
    "    table_name = model['name']\n",
    "    table_description = model.get('description', '')\n",
    "    if not table_description:\n",
    "        print('No description found')\n",
    "    print(f'{table_name}: {table_description}')"
   ]
  },
  {
   "cell_type": "code",
   "execution_count": null,
   "metadata": {},
   "outputs": [],
   "source": [
    "# Define your Snowflake connection parameters\n",
    "user = 'YOUR_USER'\n",
    "password = 'YOUR_PASSWORD'\n",
    "account = 'YOUR_ACCOUNT'\n",
    "warehouse = 'YOUR_WAREHOUSE'\n",
    "\n",
    "# Execute SQL statements in Snowflake\n",
    "execute_sql_statements(sql_statements, user, password, account, warehouse, database, schema_name)"
   ]
  }
 ],
 "metadata": {
  "kernelspec": {
   "display_name": "data_sci",
   "language": "python",
   "name": "python3"
  },
  "language_info": {
   "codemirror_mode": {
    "name": "ipython",
    "version": 3
   },
   "file_extension": ".py",
   "mimetype": "text/x-python",
   "name": "python",
   "nbconvert_exporter": "python",
   "pygments_lexer": "ipython3",
   "version": "3.9.6"
  }
 },
 "nbformat": 4,
 "nbformat_minor": 2
}
