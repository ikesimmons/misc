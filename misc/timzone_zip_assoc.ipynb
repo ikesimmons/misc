{
 "cells": [
  {
   "cell_type": "code",
   "execution_count": 3,
   "metadata": {},
   "outputs": [
    {
     "name": "stdout",
     "output_type": "stream",
     "text": [
      "ZipCode(zip='54115', city='De Pere', state='WI', longitude=-88.07896, latitude=44.42042, timezone=-6, dst=1)\n",
      "ZipCode(zip='00210', city='Portsmouth', state='NH', longitude=-71.013202, latitude=43.005895, timezone=-5, dst=1)\n",
      "ZipCode(zip='85003', city='Phoenix', state='AZ', longitude=-112.07838, latitude=33.451143, timezone=-7, dst=0)\n",
      "<class 'pyzipcode.ZipCodeDatabase'>\n"
     ]
    }
   ],
   "source": [
    "from pyzipcode import ZipCodeDatabase\n",
    "\n",
    "zcdb = ZipCodeDatabase()\n",
    "\n",
    "print(zcdb[54115])\n",
    "\n",
    "print(zcdb[210])\n",
    "print(zcdb[85003])\n",
    "print(type(zcdb))"
   ]
  },
  {
   "cell_type": "code",
   "execution_count": 9,
   "metadata": {},
   "outputs": [
    {
     "name": "stdout",
     "output_type": "stream",
     "text": [
      "ZipCode(zip='84093', city='Sandy', state='UT', longitude=-111.83448, latitude=40.594948, timezone=-7, dst=1)\n",
      "Sandy\n"
     ]
    }
   ],
   "source": [
    "print(zcdb[84093])\n",
    "\n",
    "my_zip = zcdb[84093]\n",
    "\n",
    "print(my_zip.city)\n",
    "\n"
   ]
  },
  {
   "cell_type": "code",
   "execution_count": 11,
   "metadata": {},
   "outputs": [
    {
     "ename": "TypeError",
     "evalue": "'NoneType' object is not iterable",
     "output_type": "error",
     "traceback": [
      "\u001b[0;31m---------------------------------------------------------------------------\u001b[0m",
      "\u001b[0;31mTypeError\u001b[0m                                 Traceback (most recent call last)",
      "Cell \u001b[0;32mIn[11], line 22\u001b[0m\n\u001b[1;32m     19\u001b[0m     csv_writer\u001b[38;5;241m.\u001b[39mwriterow([\u001b[38;5;124m'\u001b[39m\u001b[38;5;124mzip\u001b[39m\u001b[38;5;124m'\u001b[39m, \u001b[38;5;124m'\u001b[39m\u001b[38;5;124mcity\u001b[39m\u001b[38;5;124m'\u001b[39m, \u001b[38;5;124m'\u001b[39m\u001b[38;5;124mstate\u001b[39m\u001b[38;5;124m'\u001b[39m, \u001b[38;5;124m'\u001b[39m\u001b[38;5;124mlongitude\u001b[39m\u001b[38;5;124m'\u001b[39m, \u001b[38;5;124m'\u001b[39m\u001b[38;5;124mlatitude\u001b[39m\u001b[38;5;124m'\u001b[39m, \u001b[38;5;124m'\u001b[39m\u001b[38;5;124mtimezone\u001b[39m\u001b[38;5;124m'\u001b[39m, \u001b[38;5;124m'\u001b[39m\u001b[38;5;124mdst\u001b[39m\u001b[38;5;124m'\u001b[39m])\n\u001b[1;32m     21\u001b[0m     \u001b[38;5;66;03m# Iterate over the entries and write each entry's data to the CSV file\u001b[39;00m\n\u001b[0;32m---> 22\u001b[0m     \u001b[38;5;28;01mfor\u001b[39;00m entry \u001b[38;5;129;01min\u001b[39;00m all_entries:\n\u001b[1;32m     23\u001b[0m         csv_writer\u001b[38;5;241m.\u001b[39mwriterow([entry\u001b[38;5;241m.\u001b[39mzip, entry\u001b[38;5;241m.\u001b[39mcity, entry\u001b[38;5;241m.\u001b[39mstate, entry\u001b[38;5;241m.\u001b[39mlongitude, entry\u001b[38;5;241m.\u001b[39mlatitude, entry\u001b[38;5;241m.\u001b[39mtimezone, entry\u001b[38;5;241m.\u001b[39mdst])\n\u001b[1;32m     25\u001b[0m \u001b[38;5;28mprint\u001b[39m(\u001b[38;5;124mf\u001b[39m\u001b[38;5;124m\"\u001b[39m\u001b[38;5;124mData has been written to \u001b[39m\u001b[38;5;132;01m{\u001b[39;00mcsv_file_name\u001b[38;5;132;01m}\u001b[39;00m\u001b[38;5;124m\"\u001b[39m)\n",
      "\u001b[0;31mTypeError\u001b[0m: 'NoneType' object is not iterable"
     ]
    }
   ],
   "source": [
    "import csv\n",
    "from pyzipcode import ZipCodeDatabase\n",
    "\n",
    "# Initialize the ZipCodeDatabase\n",
    "zcdb = ZipCodeDatabase()\n",
    "\n",
    "\n",
    "# Define the CSV file name\n",
    "csv_file_name = 'zipcode_data.csv'\n",
    "\n",
    "# Open the CSV file for writing\n",
    "with open(csv_file_name, mode='w', newline='') as csv_file:\n",
    "    # Create a CSV writer object\n",
    "    csv_writer = csv.writer(csv_file)\n",
    "    \n",
    "    # Write the header row\n",
    "    csv_writer.writerow(['zip', 'city', 'state', 'longitude', 'latitude', 'timezone', 'dst'])\n",
    "    \n",
    "    # Iterate over the entries and write each entry's data to the CSV file\n",
    "    for zip in zcdb:\n",
    "        csv_writer.writerow([entry.zip, entry.city, entry.state, entry.longitude, entry.latitude, entry.timezone, entry.dst])\n",
    "\n",
    "print(f\"Data has been written to {csv_file_name}\")"
   ]
  },
  {
   "cell_type": "code",
   "execution_count": 12,
   "metadata": {},
   "outputs": [
    {
     "ename": "AttributeError",
     "evalue": "'str' object has no attribute 'zip'",
     "output_type": "error",
     "traceback": [
      "\u001b[0;31m---------------------------------------------------------------------------\u001b[0m",
      "\u001b[0;31mAttributeError\u001b[0m                            Traceback (most recent call last)",
      "Cell \u001b[0;32mIn[12], line 2\u001b[0m\n\u001b[1;32m      1\u001b[0m \u001b[38;5;28;01mfor\u001b[39;00m \u001b[38;5;28mzip\u001b[39m \u001b[38;5;129;01min\u001b[39;00m zcdb:\n\u001b[0;32m----> 2\u001b[0m         csv_writer\u001b[38;5;241m.\u001b[39mwriterow([\u001b[38;5;28;43mzip\u001b[39;49m\u001b[38;5;241;43m.\u001b[39;49m\u001b[43mzip\u001b[49m, \u001b[38;5;28mzip\u001b[39m\u001b[38;5;241m.\u001b[39mcity, \u001b[38;5;28mzip\u001b[39m\u001b[38;5;241m.\u001b[39mstate, \u001b[38;5;28mzip\u001b[39m\u001b[38;5;241m.\u001b[39mlongitude, \u001b[38;5;28mzip\u001b[39m\u001b[38;5;241m.\u001b[39mlatitude, \u001b[38;5;28mzip\u001b[39m\u001b[38;5;241m.\u001b[39mtimezone, \u001b[38;5;28mzip\u001b[39m\u001b[38;5;241m.\u001b[39mdst])\n",
      "\u001b[0;31mAttributeError\u001b[0m: 'str' object has no attribute 'zip'"
     ]
    }
   ],
   "source": [
    "for zip in zcdb:\n",
    "        csv_writer.writerow([zip.zip, zip.city, zip.state, zip.longitude, zip.latitude, zip.timezone, zip.dst])"
   ]
  },
  {
   "cell_type": "code",
   "execution_count": 13,
   "metadata": {},
   "outputs": [
    {
     "name": "stdout",
     "output_type": "stream",
     "text": [
      "Data has been written to zipcode_data.csv\n"
     ]
    }
   ],
   "source": [
    "import csv\n",
    "from pyzipcode import ZipCodeDatabase\n",
    "\n",
    "# Initialize the ZipCodeDatabase\n",
    "zcdb = ZipCodeDatabase()\n",
    "\n",
    "# Create an empty list to store valid entries\n",
    "valid_entries = []\n",
    "\n",
    "# Iterate through all possible zip codes from 00000 to 99999\n",
    "for i in range(100000):\n",
    "    zip_code = f\"{i:05d}\"  # Format the number as a 5-digit string\n",
    "    try:\n",
    "        entry = zcdb[zip_code]\n",
    "        valid_entries.append(entry)\n",
    "    except KeyError:\n",
    "        # If the zip code does not exist, skip it\n",
    "        continue\n",
    "\n",
    "# Define the CSV file name\n",
    "csv_file_name = 'zipcode_data.csv'\n",
    "\n",
    "# Open the CSV file for writing\n",
    "with open(csv_file_name, mode='w', newline='') as csv_file:\n",
    "    # Create a CSV writer object\n",
    "    csv_writer = csv.writer(csv_file)\n",
    "    \n",
    "    # Write the header row\n",
    "    csv_writer.writerow(['zip', 'city', 'state', 'longitude', 'latitude', 'timezone', 'dst'])\n",
    "    \n",
    "    # Iterate over the valid entries and write each entry's data to the CSV file\n",
    "    for entry in valid_entries:\n",
    "        csv_writer.writerow([entry.zip, entry.city, entry.state, entry.longitude, entry.latitude, entry.timezone, entry.dst])\n",
    "\n",
    "print(f\"Data has been written to {csv_file_name}\")"
   ]
  },
  {
   "cell_type": "code",
   "execution_count": 16,
   "metadata": {},
   "outputs": [
    {
     "name": "stdout",
     "output_type": "stream",
     "text": [
      "Data has been written to zipcode_data_with_timezones.csv with updated timezone values and leading zeros in zip codes.\n"
     ]
    }
   ],
   "source": [
    "import csv\n",
    "\n",
    "# Define the mapping from numerical timezone values to alphabetical codes\n",
    "timezone_mapping = {\n",
    "    -12: 'AoE',\n",
    "    -11: 'NUT',\n",
    "    -10: 'HST',\n",
    "    -9: 'AKST',\n",
    "    -8: 'PST',\n",
    "    -7: 'MST',\n",
    "    -6: 'CST',\n",
    "    -5: 'EST',\n",
    "    -4: 'AST',\n",
    "    -3: 'ART',\n",
    "    -2: 'BRST',\n",
    "    -1: 'AZOT',\n",
    "    0: 'UTC',\n",
    "    1: 'CET',\n",
    "    2: 'EET',\n",
    "    3: 'MSK',\n",
    "    4: 'GST',\n",
    "    5: 'PKT',\n",
    "    6: 'BST',\n",
    "    7: 'ICT',\n",
    "    8: 'CST',\n",
    "    9: 'JST',\n",
    "    10: 'AEST',\n",
    "    11: 'AEDT',\n",
    "    12: 'NZST'\n",
    "}\n",
    "\n",
    "# Define the input and output CSV file names\n",
    "input_csv_file_name = 'zipcode_data.csv'\n",
    "output_csv_file_name = 'zipcode_data_with_timezones.csv'\n",
    "\n",
    "# Open the input CSV file for reading\n",
    "with open(input_csv_file_name, mode='r', newline='') as input_csv_file:\n",
    "    csv_reader = csv.reader(input_csv_file)\n",
    "    \n",
    "    # Read the header\n",
    "    header = next(csv_reader)\n",
    "    \n",
    "    # Add the new column to the header\n",
    "    header.append('timezone_code')\n",
    "    \n",
    "    # Open the output CSV file for writing\n",
    "    with open(output_csv_file_name, mode='w', newline='') as output_csv_file:\n",
    "        csv_writer = csv.writer(output_csv_file)\n",
    "        \n",
    "        # Write the updated header to the output file\n",
    "        csv_writer.writerow(header)\n",
    "        \n",
    "        # Iterate over the rows in the input file\n",
    "        for row in csv_reader:\n",
    "            # Format the zip code to ensure it has leading zeros\n",
    "            row[0] = f\"{int(row[0]):05d}\"\n",
    "            \n",
    "            # Get the numerical timezone value\n",
    "            timezone_value = int(row[5])\n",
    "            \n",
    "            # Get the corresponding alphabetical code\n",
    "            timezone_code = timezone_mapping.get(timezone_value, 'Unknown')\n",
    "            \n",
    "            # Add the timezone code to the row\n",
    "            row.append(timezone_code)\n",
    "            \n",
    "            # Write the updated row to the output file\n",
    "            csv_writer.writerow(row)\n",
    "\n",
    "print(f\"Data has been written to {output_csv_file_name} with updated timezone values and leading zeros in zip codes.\")"
   ]
  }
 ],
 "metadata": {
  "kernelspec": {
   "display_name": "data_sci",
   "language": "python",
   "name": "python3"
  },
  "language_info": {
   "codemirror_mode": {
    "name": "ipython",
    "version": 3
   },
   "file_extension": ".py",
   "mimetype": "text/x-python",
   "name": "python",
   "nbconvert_exporter": "python",
   "pygments_lexer": "ipython3",
   "version": "3.9.6"
  }
 },
 "nbformat": 4,
 "nbformat_minor": 2
}
